{
 "cells": [
  {
   "cell_type": "code",
   "execution_count": 1,
   "metadata": {},
   "outputs": [],
   "source": [
    "from langchain.document_loaders import UnstructuredPDFLoader, OnlinePDFLoader\n",
    "from langchain.text_splitter import RecursiveCharacterTextSplitter"
   ]
  },
  {
   "cell_type": "code",
   "execution_count": 2,
   "metadata": {},
   "outputs": [],
   "source": [
    "# Load chunks.txt and store it in a list, separated by newlines\n",
    "with open('chunks.txt', 'r') as f:\n",
    "    chunks = f.read().split('\\n')\n"
   ]
  },
  {
   "cell_type": "code",
   "execution_count": 3,
   "metadata": {},
   "outputs": [
    {
     "name": "stderr",
     "output_type": "stream",
     "text": [
      "/Library/Frameworks/Python.framework/Versions/3.10/lib/python3.10/site-packages/pinecone/index.py:4: TqdmExperimentalWarning: Using `tqdm.autonotebook.tqdm` in notebook mode. Use `tqdm.tqdm` instead to force console mode (e.g. in jupyter console)\n",
      "  from tqdm.autonotebook import tqdm\n"
     ]
    }
   ],
   "source": [
    "from langchain.vectorstores import Chroma, Pinecone\n",
    "from langchain.embeddings.openai import OpenAIEmbeddings\n",
    "import pinecone"
   ]
  },
  {
   "cell_type": "code",
   "execution_count": 4,
   "metadata": {},
   "outputs": [],
   "source": [
    "import os\n",
    "import dotenv\n",
    "\n",
    "dotenv.load_dotenv('env')\n",
    "OPENAI_API_KEY = os.environ['OPENAI_API_KEY']\n",
    "PINECONE_API_KEY = os.environ['PINECONE_API_KEY']\n",
    "PINECONE_API_ENV = os.environ['PINECONE_API_ENV']"
   ]
  },
  {
   "cell_type": "code",
   "execution_count": 5,
   "metadata": {},
   "outputs": [],
   "source": [
    "embeddings = OpenAIEmbeddings(openai_api_key=OPENAI_API_KEY)"
   ]
  },
  {
   "cell_type": "code",
   "execution_count": 6,
   "metadata": {},
   "outputs": [],
   "source": [
    "# initialize pinecone\n",
    "pinecone.init(\n",
    "    api_key=PINECONE_API_KEY,  # find at app.pinecone.io\n",
    "    environment=PINECONE_API_ENV  # next to api key in console\n",
    ")\n",
    "index_name = \"langchain\" # put in the name of your pinecone index here"
   ]
  },
  {
   "cell_type": "code",
   "execution_count": 8,
   "metadata": {},
   "outputs": [],
   "source": [
    "docsearch = Pinecone.from_texts(chunks, embeddings, index_name=index_name)"
   ]
  },
  {
   "cell_type": "code",
   "execution_count": 9,
   "metadata": {},
   "outputs": [],
   "source": [
    "query = \"Reccomend me a game: I want to conquer castles. It should be singleplayer. It should have a large map. It should be set in the middle ages. It should be first person\"\n",
    "docs = docsearch.similarity_search(query, include_metadata=True)"
   ]
  },
  {
   "cell_type": "code",
   "execution_count": 10,
   "metadata": {},
   "outputs": [
    {
     "data": {
      "text/plain": [
       "'Mount & Blade II: Bannerlord: as a young lad i served in the viking army, raided and looted innocent villages, sieged great castles and cities, and fought huge battles at the front with my powerful axe. i finally decided i was powerful enough to strike out on my own, i rebelled against my king, and was inmediately attacked by many thousands of troops, my cities and castles were destroyed, and me and my family were taken into slavery, and i lost all my millions of dollars. 10/10'"
      ]
     },
     "execution_count": 10,
     "metadata": {},
     "output_type": "execute_result"
    }
   ],
   "source": [
    "# Example chunk\n",
    "docs[0].page_content[:]"
   ]
  },
  {
   "cell_type": "code",
   "execution_count": 11,
   "metadata": {},
   "outputs": [],
   "source": [
    "from langchain.llms import OpenAI\n",
    "from langchain.chains.question_answering import load_qa_chain"
   ]
  },
  {
   "cell_type": "code",
   "execution_count": 12,
   "metadata": {},
   "outputs": [],
   "source": [
    "llm = OpenAI(temperature=0, openai_api_key=OPENAI_API_KEY)\n",
    "chain = load_qa_chain(llm, chain_type=\"stuff\")"
   ]
  },
  {
   "cell_type": "code",
   "execution_count": 13,
   "metadata": {},
   "outputs": [],
   "source": [
    "query = \"Reccomend me a game: I want to conquer castles. It should be singleplayer. It should have a large map. It should be set in the middle ages. It should be first person\"\n",
    "docs = docsearch.similarity_search(query, include_metadata=True)"
   ]
  },
  {
   "cell_type": "code",
   "execution_count": 14,
   "metadata": {},
   "outputs": [
    {
     "data": {
      "text/plain": [
       "[Document(page_content='Mount & Blade II: Bannerlord: as a young lad i served in the viking army, raided and looted innocent villages, sieged great castles and cities, and fought huge battles at the front with my powerful axe. i finally decided i was powerful enough to strike out on my own, i rebelled against my king, and was inmediately attacked by many thousands of troops, my cities and castles were destroyed, and me and my family were taken into slavery, and i lost all my millions of dollars. 10/10', metadata={}),\n",
       " Document(page_content='Europa Universalis IV: A rather complex grand strategy game, you pick a country to control starting from the year 1444 all the way to 1821. There isn\\'t any fixed objective to aim for: it\\'s  a good idea to try to get the achievements offered (such as world domination), as most are a real challenge to earn.   Each country is divided into provinces, allowing movement of you armies from one to another in real time - nothing here is turn based. Battles aren\\'t controlled by you, as in total war: you make your army walk onto the same province as an opposing army, and the battle outcome is decided in part by random dice rolls, and in part by factors you can influence, such as generals, terrain, morale of troops. The same can be said for naval battles, where different types of ships behave differently depending on what sea province you are fighting in, if they are in the open ocean, or in a closed sea (such as the Mediterranean).   Diplomacy is fairly well fleshed out, countries can have a number of different governments, such as feudal monarchies or merchant republics, all that give different bonuses and maluses, and some (such as republics) offer the possibility to choose what type of leader you want, so as to give you more of a certain type of monarch points. You can offer alliances, royal marriages, support rebels, create false claims on provinces you don\\'t own to give you a \"casus belli\" (a reason to go to war) among other things, the list is really really huge.  Monarch points are a \"limiting factor\" in the game, you have 3 different types of monarch points (Administrative, Diplomatic, Military), each that serve different purposes. For example, military points can be spent to buy a new general, or to treat a province harshly if rebels are likely to rise up there. (As of the Art of War update, rebel mechanics have changes slightly. Instead of each province possibly spawning rebels depending on a percentage, now each rebel faction has a counter that goes up or down depending on your country\\'s ', metadata={}),\n",
       " Document(page_content=\"Mount & Blade II: Bannerlord: handful of units with a broadsword on horseback is not only more realistic but makes you feel truly as powerful as you probably should be late-game.)[/b]  The UI is being worked on, but there are glaring improvements in all aspects of menu navigation from Warband. Cities, castles and fiefs now have a stylized and more aesthetically pleasing menu card, and notables have portraits at the top of the menu which allow you to teleport straight to them to eliminate manhunting important people to talk to. Troop recruitment is also much more visual and allows you to select specific units, how many units you are buying, displays your current party size, and lets you know when you are over your limit.  Fully dynamic world economy with shifting supply and demand that responds directly to not only your trade, but the AI's as well; becoming a medieval capitalist has never been more engaging and rewarding. Flooding a city or region with a certain good will affect it's demand, supply lines can be cut if peasants are intercepted while dropping goods off in cities, caravans can be plundered en route to their destination (yes, even your own), and sieges can block cities from receiving goods; all of which potentially affecting your workshop, caravan and city revenue.   Keeping the scope of the world economy in mind, the game world itself is absolutely f***ing massive. There is a ridiculous amount of cities, fiefs, and castles to visit, plunder, or do trade with, all of which operated under the guiding hand of their respective owners. Kingdoms span for miles upon miles, maintaining their borders while wrestling for control with each other; there are PLENTY of kingdoms, all of which moving gold and waging war dynamically with each other constantly. And within these kingdoms, smaller bands of warriors reside; small, fiefless clans wander their territories and can be fought or brought into your eventual kingdom. Even still, bandits and looters scurry from treeline to treeline and along the\", metadata={}),\n",
       " Document(page_content=\"Crusader Kings III: I enjoyed CK2 but I have to admit, I never really knew what I was doing when I played it.   CK3 is much more accessible to me and I actually feel I know what I'm trying to accomplish and how to accomplish it. If that means the game has been dumbed down, well, I'm dumb enough to be OK with that.hile I consolidated my position.  In 1211 I received news of my father's death. After the messenger left my chambers, I went to the family shrine and knelt in prayer, vowing to my father's spirit that his son, my brother, would finally be avenged.  More years passed. As both kingdoms were now mine, I slowly amassed enough gold and troops to take on my entire realm. A careful campaign of pacification had made my vassals compliant.  It is the year 1218, and time to put my plan into action. I expose Duke Ugo's deviancy. He is now a criminal. As my father did twenty years before, I revoke his title, and again, he rises up in rebellion, but this time no one will stand with him. My troops outnumber his four to one. With laughable ease I storm his palace and win victory. My knights drag him out and throw him down in the mud before me.  I arrest him and throw him in the dungeon. I revoke all of his titles and grant them to a distant toddler cousin. Years of emotional stress are wiped away in an instant--Ugo, my rival, murderer of my brother is now mine to do with as I will. Shall I torture him? Execute him? Shall I simply leave him there to rot in filth and misery? I ponder this choice, and the sweetness of vengeance.\", metadata={})]"
      ]
     },
     "execution_count": 14,
     "metadata": {},
     "output_type": "execute_result"
    }
   ],
   "source": [
    "docs"
   ]
  },
  {
   "cell_type": "code",
   "execution_count": 15,
   "metadata": {},
   "outputs": [
    {
     "data": {
      "text/plain": [
       "' Mount & Blade II: Bannerlord is a great choice for you. It is a singleplayer game set in the middle ages where you can conquer castles. The game world is massive, with plenty of cities, fiefs, and castles to visit, plunder, or do trade with. You can also recruit troops and build up your army to help you in your conquests.'"
      ]
     },
     "execution_count": 15,
     "metadata": {},
     "output_type": "execute_result"
    }
   ],
   "source": [
    "chain.run(input_documents=docs, question=query)"
   ]
  },
  {
   "cell_type": "code",
   "execution_count": null,
   "metadata": {},
   "outputs": [],
   "source": []
  }
 ],
 "metadata": {
  "kernelspec": {
   "display_name": "Python 3",
   "language": "python",
   "name": "python3"
  },
  "language_info": {
   "codemirror_mode": {
    "name": "ipython",
    "version": 3
   },
   "file_extension": ".py",
   "mimetype": "text/x-python",
   "name": "python",
   "nbconvert_exporter": "python",
   "pygments_lexer": "ipython3",
   "version": "3.10.8"
  },
  "orig_nbformat": 4
 },
 "nbformat": 4,
 "nbformat_minor": 2
}

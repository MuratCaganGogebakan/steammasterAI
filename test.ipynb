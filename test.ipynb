{
 "cells": [
  {
   "cell_type": "code",
   "execution_count": 18,
   "metadata": {},
   "outputs": [],
   "source": [
    "from langchain.document_loaders import UnstructuredPDFLoader, OnlinePDFLoader\n",
    "from langchain.text_splitter import RecursiveCharacterTextSplitter"
   ]
  },
  {
   "cell_type": "code",
   "execution_count": null,
   "metadata": {},
   "outputs": [],
   "source": [
    "import json \n",
    "# Lead chunks.json into a dictionary\n",
    "with open('chunks.json', 'r') as f:\n",
    "    chunks = json.load(f)"
   ]
  },
  {
   "cell_type": "code",
   "execution_count": null,
   "metadata": {},
   "outputs": [],
   "source": [
    "#Convert dict to a tuple of (game, review)\n",
    "reviews = []\n",
    "for game in chunks:\n",
    "    for review in chunks[game]:\n",
    "        reviews.append((game, review))\n"
   ]
  },
  {
   "cell_type": "code",
   "execution_count": null,
   "metadata": {},
   "outputs": [],
   "source": [
    "# Create a list for reviews and a list for games\n",
    "review_list = []\n",
    "game_list = []\n",
    "for review in reviews:\n",
    "    game_list.append(review[0])\n",
    "    review_list.append(review[1])\n"
   ]
  },
  {
   "cell_type": "code",
   "execution_count": null,
   "metadata": {},
   "outputs": [],
   "source": [
    "# Convert each game to a dictionary of gameDict[\"game\"] = [game]\n",
    "gameDictList = []\n",
    "for game in game_list:\n",
    "    gameDict = {}\n",
    "    gameDict[\"game\"] = [game]\n",
    "    gameDictList.append(gameDict)\n",
    "gameDictList"
   ]
  },
  {
   "cell_type": "code",
   "execution_count": 19,
   "metadata": {},
   "outputs": [],
   "source": [
    "from langchain.vectorstores import Chroma, Pinecone\n",
    "from langchain.embeddings.openai import OpenAIEmbeddings\n",
    "import pinecone"
   ]
  },
  {
   "cell_type": "code",
   "execution_count": 20,
   "metadata": {},
   "outputs": [],
   "source": [
    "import os\n",
    "import dotenv\n",
    "\n",
    "dotenv.load_dotenv('env')\n",
    "OPENAI_API_KEY = os.environ['OPENAI_API_KEY']\n",
    "PINECONE_API_KEY = os.environ['PINECONE_API_KEY']\n",
    "PINECONE_API_ENV = os.environ['PINECONE_API_ENV']"
   ]
  },
  {
   "cell_type": "code",
   "execution_count": 21,
   "metadata": {},
   "outputs": [],
   "source": [
    "embeddings = OpenAIEmbeddings(openai_api_key=OPENAI_API_KEY)"
   ]
  },
  {
   "cell_type": "code",
   "execution_count": 22,
   "metadata": {},
   "outputs": [],
   "source": [
    "# initialize pinecone\n",
    "pinecone.init(\n",
    "    api_key=PINECONE_API_KEY,  # find at app.pinecone.io\n",
    "    environment=PINECONE_API_ENV  # next to api key in console\n",
    ")\n",
    "index_name = \"langchain\" # put in the name of your pinecone index here"
   ]
  },
  {
   "cell_type": "code",
   "execution_count": 23,
   "metadata": {},
   "outputs": [],
   "source": [
    "#docsearch = Pinecone.from_texts(review_list, embeddings, metadatas=gameDictList, index_name=index_name) #Initial population !!\n",
    "docsearch = Pinecone.from_existing_index(index_name=index_name, embedding=embeddings)"
   ]
  },
  {
   "cell_type": "code",
   "execution_count": 24,
   "metadata": {},
   "outputs": [],
   "source": [
    "from langchain.llms import OpenAI\n",
    "from langchain.chains.question_answering import load_qa_chain"
   ]
  },
  {
   "cell_type": "code",
   "execution_count": 25,
   "metadata": {},
   "outputs": [],
   "source": [
    "llm = OpenAI(temperature=0, openai_api_key=OPENAI_API_KEY)\n",
    "chain = load_qa_chain(llm, chain_type=\"stuff\")"
   ]
  },
  {
   "cell_type": "code",
   "execution_count": 39,
   "metadata": {},
   "outputs": [],
   "source": [
    "query = \"\"\"\" I'm looking for a sandbox-style game with pixelated graphics that offers both single-player and multiplayer modes. I enjoy games where I can explore and modify an open world, digging into the earth, gathering resources, and building structures. I want a game with a progression system that's tied to combating various bosses and enemies. The game should include crafting mechanics, allowing me to utilize the resources I gather to create new items, tools, and weapons. I'd also appreciate if the game had different biomes and events to keep the gameplay engaging and dynamic.\"\"\"\n",
    "docs = docsearch.similarity_search_with_score(query, k=5)\n"
   ]
  },
  {
   "cell_type": "code",
   "execution_count": 63,
   "metadata": {},
   "outputs": [
    {
     "data": {
      "text/plain": [
       "['House Builder', '7 Days to Die', 'Terraria', 'Terraria', \"Don't Starve\"]"
      ]
     },
     "execution_count": 63,
     "metadata": {},
     "output_type": "execute_result"
    }
   ],
   "source": [
    "games = []\n",
    "for i in range(len(docs)):\n",
    "    games.append(docs[i][0].metadata[\"game\"][0])\n",
    "games"
   ]
  },
  {
   "cell_type": "code",
   "execution_count": 64,
   "metadata": {},
   "outputs": [],
   "source": [
    "game_name = games[0]"
   ]
  },
  {
   "cell_type": "code",
   "execution_count": 53,
   "metadata": {},
   "outputs": [],
   "source": [
    "query = \"\"\"\" I'm looking for a sandbox-style game with pixelated graphics that offers both single-player and multiplayer modes. I enjoy games where I can explore and modify an open world, digging into the earth, gathering resources, and building structures. I want a game with a progression system that's tied to combating various bosses and enemies. The game should include crafting mechanics, allowing me to utilize the resources I gather to create new items, tools, and weapons. I'd also appreciate if the game had different biomes and events to keep the gameplay engaging and dynamic.\"\"\"\n",
    "game_docs = docsearch.similarity_search(query, k=5, filter={\"game\": game_name})"
   ]
  },
  {
   "cell_type": "code",
   "execution_count": 54,
   "metadata": {},
   "outputs": [
    {
     "data": {
      "text/plain": [
       "[Document(page_content=\"Minecraft was too boring for me (I'm not a creator for creations sake). Terraria was fun, I enjoyed the additional combat focus.  DayZ didn't have 'it' for me, I didn't like the lack of building (at least when I played it) Ark was fun (dinos!), but it got stale as there was no forced conflict. No reason to explore, no reason to keep building. So it fell into the minecraft trap.  7 Days to Die allows me to be creative, but gives me a good solid foundation of conflict and purpose to my building. Not only that, but it creatively forces/encourages me to get out of my safe keep and risk exploring which causes me to engage with the game content in a very enjoyable fashion.  This was a recommendation from a friend based on the steam sale, and I've dedicated 90% of my gaming hours to this since I bought it over the holiday break. Strongly recommend!im 65 and been playing games since the early 80s, i have around 1500 hrs gameplay in 7 days to die game and must say that this game is on the same fun level as half life when that wonderfull game first arrived. everything in the world is destroyable and everything is useable, everything that lives in the world is killable and can kill you. i will be playing this game till the day i die both single player and with my friends. it is slow in moving forward to a full release game but the money has to come from somewhere and funpimps are not a huge company, imagine this game if funpimps were as big as bethesda or the other big game companies. the fact that this game is so playable even in its unfinished state should tell you all you need to know. keep hard at it funpimps its a yes from me and your through to the finals.\", metadata={'game': ['7 Days to Die']}),\n",
       " Document(page_content=\"First time playing when it turned night I had no choice but to burry myself in the dirt....  Sitting in the pitch black hole just listening to the insane sounds of the zombies outside.  I felt a real rush and fear not knowing what would happen.....   Its rare a game can do that to you.  Pros: Great extensive crafting mechanic Looting Zombies present an actual challenege especially at night when they run Mining for resources feels like you actually acomplished something  Cons: DOGS, $^#@ them Still in alpha so some glitches may occur Performance can be rough on older systems unless you turn graphics all the way down   All in all though i give this game a strong 8/10  -The Fun Pimps seem to care about the game and are quick with fixes -It can be insanely addicting to play -I love the mining and crafting mechanics -The fun to be had in this game is only limited to your own creativity -LOTS OF REPLAY VALUE  I am not good at writing reviews but I hope this helps at least one person  FINAL VERDICT:  BUY THE GAMEI was playing modded minecraft many moons ago, but it was just too safe. You build your house and bam, you've always got a safe space. Pah.   I wanted a game in which I could starve to death. I wanted a game in which walls only bought time, never total safety. I wanted the chance of losing it all. I also wanted zombies.   7 days to die gave me all these things. Sure, you can still make yourself pretty safe. You can mix concrete and build a shimmering tower bristling with spikes and traps. You can look out your windows and laugh at the slightly glitchy feral hordes as they stream screaming to your door beneath the blood red sky. You can go about your crafty business as they claw at your walls. You can feel safe... But not forever. There's always a timer ticking in your mind.  Eventually, they'll get in.\", metadata={'game': ['7 Days to Die']}),\n",
       " Document(page_content=\"I love the building and the always having to deal with the zombies.  it's been a good game that has kept me up at night when my wife was sick.  even though she has passed away, i still enjoy playing... it helps me keep my mind from being depressed to much.Drank water. Ate some food. Got diarrhea. Got dehydrated from diarrhea. Died. Did this about 50 more times till I found a gun. Built a base. Was gifted a motorcycle. Now i cruise around the map listening to ACDC while drinking water. Eating food. Getting Diarrhea. Getting dehydrated. And Dying Its like Minecraft, Rust, and Dayz had a threesome, but no one knows who the real father is. 10/10of blocky, but It is a minecraft-like game, so it is to be expected.  Overall, this is one of my favorite games of all time. It does have it's flaws, like not super good graphics, a bit of a learning curve, few updates, and the occasional bug, but what it has far outclasses its cons, like solid gameplay, lots of repalyability, and having building physics that make you build smart and realistic. I would reccomend at least trying this game out, I think that you will enjoy it! and it's frustrating, but it's so awesome having to constantly keep maintanence on your base and look for new ways to prevent them and to see your weak spots.   These are just some of my points, and you wanna know the awesome thing? This right here, is just an alpha.. A fucking.. Alpha, and the developers have already come this far. As I type this, the alpha11 update is imminent and should be released any day now. This is said to be the biggest update this game has seen. This game is going nowhere but up.  Unfortunately, I can't tell you about the PvP, because my friends and I just normally play on a private PvE server and survive together. I have no idea how well PvP works. If I ever play PvP, I'll tell you how it goes.\", metadata={'game': ['7 Days to Die']}),\n",
       " Document(page_content=\"Been with the game since the beginning and am still to this day enjoying every bit of it regardless of some less than desirable changes but alas, things come and go.  This game is a high 9/10 from me and I highly recommend you try it out if you're on the fence. Step away from that aging game Minecraft and enjoy a finer more refined version with the only limiting factor in this game being your imagination as the things you can do and build are endless. Guaranteed thousands of hours of enjoyment!  I'd love to give this review a thumbs up since this game is very deserving of it however, the community is a major part of any game and said community in this game is very unpleasant when it comes to discussing topics.  Anything negative even remotely minor in being is met with extreme hostility which most of the time is uncalled for and unnecessary. I've not seen such fanaticism outside of Reddit and was genuinely surprised when attempting to share suggestions, potential changes, etc in the Steam discussion section as well as the official website. Give it a go as an observer and browse the general discussions section for a few days and see for yourself. I find it more pleasant and enjoyable discussing politics with the most hard headed of people than dealing with the majority of people on these forums.  Other than that, 9/10 as mentioned at the beginning of my review. The game is a blast!!Game is like a drug, gave up drinking to play games like this, its darn'right to much fun. And for a old fart heading to his 70's, needed something to do so my mind stays alive, an doesn't fade away, so thank you who ever created 7 DAYS TO DIE.\", metadata={'game': ['7 Days to Die']}),\n",
       " Document(page_content=\"My first foray into 7 Days to Die went like this:  - After getting through the tutorial I met up with the trader, then proceeded to accept a quest from her to gather supplies from a location about a kilometer and a half away.  - En route to this location I happened across an abandoned hardware store and decided to investigate. During my visit I encountered several zombies and a zombified guard dog... all at the same time. I managed to survive but with severe lacerations, a broken arm and leg, and an infection.  - I had the supplies on me to splint the broken limbs and bandage my laceration, but they still took some time to heal and the infection wasn't going anywhere. I retreated to the trader but she had no antibiotics for sale which meant I was on my own for the infeciton.  - I attempted to move onwards instead, coming across an abandoned hospital. Reasoning that I could likely find medical supplies yet to be plundered or spoiled inside I girded myself and broke in, fighting my way through several floors worth of the undead.  - Midway through, during a quick outdoor run through a small open air garden to get around a barricaded part of the hospital I discovered birds could be zombified as well and was promptly attacked by a flock of the rotten budgies. I was able to fight them off, but this upgraded my infection to serious and gave me a fresh laceration. Thankfully I had located bandages.  - Several floors went by and no antibiotics. The infection was progressing rapidly at this point and the undead were showing no signs of thinning. After several hordes and an encounter with some strange zombie that ran on all fours but thankfully was shit at dodging makeshift arrows I was able to make it to the rooftops of the hospital.  - Upon travelling upwards I found a huge cache of ammunition. However, I had no gun. I left it lay and continued onwards to the rooftop. Peering carefully over the edge I saw no less than a dozen zombies led by one that seemed much larger than t\", metadata={'game': ['7 Days to Die']})]"
      ]
     },
     "execution_count": 54,
     "metadata": {},
     "output_type": "execute_result"
    }
   ],
   "source": [
    "game_docs"
   ]
  },
  {
   "cell_type": "code",
   "execution_count": 55,
   "metadata": {},
   "outputs": [
    {
     "data": {
      "text/plain": [
       "\" Yes, 7 Days to Die is a great game for what you're looking for. It has pixelated graphics, single-player and multiplayer modes, and allows you to explore and modify an open world. You can dig into the earth, gather resources, and build structures. There is a progression system tied to combating various bosses and enemies. The game also includes crafting mechanics, allowing you to utilize the resources you gather to create new items, tools, and weapons. Additionally, there are different biomes and events to keep the gameplay engaging and dynamic.\""
      ]
     },
     "execution_count": 55,
     "metadata": {},
     "output_type": "execute_result"
    }
   ],
   "source": [
    "query = \"Reccommend this game to me, If you wouldn't reccommend it always start your answer wtih a No. Make relations to my query: \" + query\n",
    "chain.run(input_documents=game_docs, question=query)"
   ]
  },
  {
   "cell_type": "code",
   "execution_count": 67,
   "metadata": {},
   "outputs": [
    {
     "name": "stdout",
     "output_type": "stream",
     "text": [
      "0\n",
      "1\n",
      "2\n",
      "3\n",
      "4\n"
     ]
    }
   ],
   "source": [
    "for i in range (len(game_docs)):\n",
    "    print(i)"
   ]
  },
  {
   "cell_type": "code",
   "execution_count": null,
   "metadata": {},
   "outputs": [],
   "source": []
  }
 ],
 "metadata": {
  "kernelspec": {
   "display_name": "Python 3",
   "language": "python",
   "name": "python3"
  },
  "language_info": {
   "codemirror_mode": {
    "name": "ipython",
    "version": 3
   },
   "file_extension": ".py",
   "mimetype": "text/x-python",
   "name": "python",
   "nbconvert_exporter": "python",
   "pygments_lexer": "ipython3",
   "version": "3.10.8"
  },
  "orig_nbformat": 4
 },
 "nbformat": 4,
 "nbformat_minor": 2
}

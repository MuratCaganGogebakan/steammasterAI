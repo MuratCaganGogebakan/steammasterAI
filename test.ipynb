{
 "cells": [
  {
   "cell_type": "code",
   "execution_count": 1,
   "metadata": {},
   "outputs": [],
   "source": [
    "from langchain.document_loaders import UnstructuredPDFLoader, OnlinePDFLoader\n",
    "from langchain.text_splitter import RecursiveCharacterTextSplitter"
   ]
  },
  {
   "cell_type": "code",
   "execution_count": 2,
   "metadata": {},
   "outputs": [],
   "source": [
    "# Load chunks.txt and store it in a list, separated by newlines\n",
    "with open('chunks.txt', 'r') as f:\n",
    "    chunks = f.read().split('\\n')\n"
   ]
  },
  {
   "cell_type": "code",
   "execution_count": 3,
   "metadata": {},
   "outputs": [
    {
     "name": "stderr",
     "output_type": "stream",
     "text": [
      "/Library/Frameworks/Python.framework/Versions/3.10/lib/python3.10/site-packages/pinecone/index.py:4: TqdmExperimentalWarning: Using `tqdm.autonotebook.tqdm` in notebook mode. Use `tqdm.tqdm` instead to force console mode (e.g. in jupyter console)\n",
      "  from tqdm.autonotebook import tqdm\n"
     ]
    }
   ],
   "source": [
    "from langchain.vectorstores import Chroma, Pinecone\n",
    "from langchain.embeddings.openai import OpenAIEmbeddings\n",
    "import pinecone"
   ]
  },
  {
   "cell_type": "code",
   "execution_count": 4,
   "metadata": {},
   "outputs": [],
   "source": [
    "import os\n",
    "import dotenv\n",
    "\n",
    "dotenv.load_dotenv('env')\n",
    "OPENAI_API_KEY = os.environ['OPENAI_API_KEY']\n",
    "PINECONE_API_KEY = os.environ['PINECONE_API_KEY']\n",
    "PINECONE_API_ENV = os.environ['PINECONE_API_ENV']"
   ]
  },
  {
   "cell_type": "code",
   "execution_count": 5,
   "metadata": {},
   "outputs": [],
   "source": [
    "embeddings = OpenAIEmbeddings(openai_api_key=OPENAI_API_KEY)"
   ]
  },
  {
   "cell_type": "code",
   "execution_count": 6,
   "metadata": {},
   "outputs": [],
   "source": [
    "# initialize pinecone\n",
    "pinecone.init(\n",
    "    api_key=PINECONE_API_KEY,  # find at app.pinecone.io\n",
    "    environment=PINECONE_API_ENV  # next to api key in console\n",
    ")\n",
    "index_name = \"langchain\" # put in the name of your pinecone index here"
   ]
  },
  {
   "cell_type": "code",
   "execution_count": 9,
   "metadata": {},
   "outputs": [],
   "source": [
    "#docsearch = Pinecone.from_texts(chunks, embeddings, index_name=index_name) #Initial population !!\n",
    "docsearch = Pinecone.from_existing_index(index_name=index_name, embedding=embeddings)"
   ]
  },
  {
   "cell_type": "code",
   "execution_count": 10,
   "metadata": {},
   "outputs": [],
   "source": [
    "from langchain.llms import OpenAI\n",
    "from langchain.chains.question_answering import load_qa_chain"
   ]
  },
  {
   "cell_type": "code",
   "execution_count": 11,
   "metadata": {},
   "outputs": [],
   "source": [
    "llm = OpenAI(temperature=0, openai_api_key=OPENAI_API_KEY)\n",
    "chain = load_qa_chain(llm, chain_type=\"stuff\")"
   ]
  },
  {
   "cell_type": "code",
   "execution_count": 36,
   "metadata": {},
   "outputs": [
    {
     "data": {
      "text/plain": [
       "[Document(page_content='Assassin\\'s Creed® Syndicate: ---{Graphics}---  You forget what reality is  Beautiful  Good  Decent  Bad  Dont look too long at it  MS-DOS  ---{Gameplay}---  Very good  Good  Its just gameplay  Mehh  Watch paint dry instead  Just don\\'t  ---{Audio}---  Eargasm  Very good  Good  Not too bad  Bad  I\\'m now deaf  ---{Audience}---  Kids  Teens  Adults  All  ---{PC Requirements}---  Check if you can run paint  Potato  Decent  Fast  Rich boi  Ask NASA if they have a spare computer  ---{Difficulity}---  Just press \\'W\\'  Easy  Significant brain usage  Easy to learn / Hard to master  Difficult  Dark Souls  ---{Grind}---  Nothing to grind  Only if u care about leaderboards/ranks  Isnt necessary to progress  Average grind level  Too much grind  Youll need a second live for grinding  ---{Story}---  No Story  Some lore  Average  Good  Lovely  Itll replace your life  ---{Game Time}---  Long enough for a cup of coffee  Short  Average  Long  To infinity and beyond  ---{Price}---  Its free!  Worth the price  If it\\'s on sale  If u have some spare money left  Not recommended  You could also just burn your money  ---{Bugs}---  Never heard of  Minor bugs  Can get annoying  ARK: Survival Evolved  The game itself is a big terrarium for bugs  ---{?/10}--- 1 2 3 4 5 6 7 8 9 10ERDICT[/b]  Honestly it\\'s been a while since I played this game, I don\\'t really remember having any major con that stopped/frustrate me from enjoying this game, it\\'s a really good game and totally worth on sale to pick it up. Even if you already played Origins and Odyssey, this one still feels \"fresh\" not outdated and it\\'s progression system will keep you hooked as those two games do as well.(not as much though) It\\'s also not a bad starting point if you\\'re unsure about older titles being outdated or not. (Though Black Flag doesn\\'t feel outdated at all and really is a good outstanding AC/game to start on, storywise ACII is really a good starting point as well) You can check my other AC reviews if you want for PROS/CONS.', metadata={}),\n",
       " Document(page_content=\"Assassin's Creed® Syndicate: [b]Pros:[/b] I love the Assassin's Creed series, this game is great too. Nice graphics. Nice story. OK optimization.  [b]Cons:[/b] Could be more optimized Water could look better.  Pirated Ubisoft games: You click it and game starts Bought Ubisoft games: You click it, Steam starts (It might update too), Uplay starts (It might update too), and finally the game starts. This bothers me a lot. If we bought it, EVERYTHING has to be better than a pirated version. [b]I AM IN NO WAY ENCOURAGING PIRACY[/b]Assassin's Creed has, until now, been something I appreciated more in concept than in execution. Syndicate is the first in the series I have actually, legitimately enjoyed in almost all regards. Part of this is due to a bit of personal bias - Victorian London has always been a favorite setting of mine and it's here in beautiful, meticulously detailed glory. But aside from that, the actual gameplay is improved, specifically with stealth and traversal. Botching a stealth kill doesn't automatically alert everyone and their mother within a 20 mile radius, and the zipline lets you avoid having to ponderously pick your way up every single building facade if you don't want to. Furthermore, each sidequest can be completed through a number of different methods, and there's not an overwhelming amount of stupid collectibles. And while the story itself is merely okay, the characters you meet and play as are all pretty charming and even legit funny. Syndcicate seems to be all about removing all the series' barriers between you and fun, and it's definitely working for me.\", metadata={}),\n",
       " Document(page_content=\"Assassin's Creed® Origins: ---{ Graphics }---  You forget what reality is  Beautiful  Good  Decent  Bad  Dont look too long at it  MS-DOS  ---{ Gameplay }---  Very good  Good  It's just gameplay  Mehh  Watch paint dry instead  Just don't  ---{ Audio }---  Eargasm  Very good  Good  Not too bad  Bad  I'm now deaf  ---{ Audience }---  Kids  Teens  Adults  Grandma  ---{ PC Requirements }---  Check if you can run paint  Potato  Decent  Fast  Rich boi  Ask NASA if they have a spare computer  ---{ Difficulty }---  Just press 'W'  Easy  Easy to learn / Hard to master  Significant brain usage  Difficult  Dark Souls  ---{ Grind }---  Nothing to grind  Only if u care about leaderboards/ranks  Isn't necessary to progress  Average grind level  Too much grind  You'll need a second life for grinding  ---{ Story }---  No Story  Some lore  Average  Good  Lovely  It'll replace your life  ---{ Game Time }---  Long enough for a cup of coffee  Short  Average  Long  To infinity and beyond  ---{ Price }---  It's free!  Worth the price  If it's on sale  If u have some spare money left  Not recommended  You could also just burn your money  ---{ Bugs }---  Never heard of  Minor bugs  Can get annoying  ARK: Survival Evolved  The game itself is a big terrarium for bugs  ---{ ? / 10 }---  1  2  3  4  5  6  7  8  9  10  I have played Assassins Creed since the original came out in 2007. I love the original format especially the ezio trilogy however if this is just treated as an anicent egyptian RPG with AC elements it is an amazing game on its own. Highly recommend you play this despite being different to the conventional AC games. You can also choose your build and can play as more of an assassin or a warrior.  Update: I have now played the DLC and attained 100% completion. Excellent DLC with lots of new extra content. Personally I preferred the shorter Hidden Ones DLC loved the new legendary outfit. Curse of the Pharohs is much longer with a lot of unique content and a more mythical feel and more challenging bosses than \", metadata={}),\n",
       " Document(page_content=\"Deceive Inc.: Highly, HIGHLY recommend you give this game a shot! It's fun to be a sneaky spy, and to deduce that an NPC is a player based on their movements and actions. Great cast of playable agents with interesting and unique abilities, weapons, and gadgets.  also, make sure to turn off animated portraits so you can have a stable framerate.s a solid try. You will not be disappointed.I absolutely love this game! I played the beta and have been counting down the days until its release.  The game offers unique gameplay with short, fast paced matches. There is a good variety of characters with different weapons and abilites, so everyone can find something to their liking.   I can easily see this becoming one of my favourite games Ive ever played.  Its great fun with friends, although I do wish it had a duo mode.   10/10\", metadata={})]"
      ]
     },
     "execution_count": 36,
     "metadata": {},
     "output_type": "execute_result"
    }
   ],
   "source": [
    "query = \"\"\"\" Recomend a game like this:\n",
    "Stealth based game assassin game. Not assassins creed. Good 3d graphics..\"\"\"\n",
    "docs = docsearch.similarity_search(query, include_metadata=True)\n",
    "docs"
   ]
  },
  {
   "cell_type": "code",
   "execution_count": 37,
   "metadata": {},
   "outputs": [
    {
     "data": {
      "text/plain": [
       "' Deceive Inc. is a great stealth-based game that is similar to an assassin game. It has good 3D graphics and offers unique gameplay with short, fast-paced matches. There is a good variety of characters with different weapons and abilities, so everyone can find something to their liking. It is great fun with friends, although it does not have a duo mode. Highly recommend you give this game a shot!'"
      ]
     },
     "execution_count": 37,
     "metadata": {},
     "output_type": "execute_result"
    }
   ],
   "source": [
    "chain.run(input_documents=docs, question=query)"
   ]
  },
  {
   "cell_type": "code",
   "execution_count": null,
   "metadata": {},
   "outputs": [],
   "source": []
  },
  {
   "cell_type": "code",
   "execution_count": null,
   "metadata": {},
   "outputs": [],
   "source": []
  }
 ],
 "metadata": {
  "kernelspec": {
   "display_name": "Python 3",
   "language": "python",
   "name": "python3"
  },
  "language_info": {
   "codemirror_mode": {
    "name": "ipython",
    "version": 3
   },
   "file_extension": ".py",
   "mimetype": "text/x-python",
   "name": "python",
   "nbconvert_exporter": "python",
   "pygments_lexer": "ipython3",
   "version": "3.10.8"
  },
  "orig_nbformat": 4
 },
 "nbformat": 4,
 "nbformat_minor": 2
}
